{
 "cells": [
  {
   "cell_type": "markdown",
   "metadata": {
    "pycharm": {
     "name": "#%% md\n"
    }
   },
   "source": [
    "# Napsu-MQ for categorical data: Twinify usage example"
   ]
  },
  {
   "cell_type": "code",
   "execution_count": 46,
   "metadata": {
    "pycharm": {
     "name": "#%%\n"
    }
   },
   "outputs": [],
   "source": [
    "%%capture\n",
    "\n",
    "import jax.numpy as jnp\n",
    "import numpy as np\n",
    "import pandas as pd\n",
    "import d3p\n",
    "from twinify.napsu_mq.napsu_mq import NapsuMQModel, NapsuMQInferenceConfig, NapsuMQMCMCConfig\n",
    "from twinify.napsu_mq import rubins_rules\n",
    "from tests.napsu_mq.binary_logistic_regression_generator import BinaryLogisticRegressionDataGenerator\n",
    "import seaborn as sns\n",
    "import matplotlib.pyplot as plt\n",
    "import statsmodels.api as sm"
   ]
  },
  {
   "cell_type": "code",
   "execution_count": 47,
   "metadata": {
    "pycharm": {
     "name": "#%%\n"
    }
   },
   "outputs": [],
   "source": [
    "rng = d3p.random.PRNGKey(42526709)\n",
    "data_gen_rng, inference_rng = d3p.random.split(rng)\n",
    "data_gen_rng = d3p.random.convert_to_jax_rng_key(data_gen_rng)"
   ]
  },
  {
   "cell_type": "markdown",
   "metadata": {
    "pycharm": {
     "name": "#%% md\n"
    }
   },
   "source": [
    "#### Prepare dataset"
   ]
  },
  {
   "cell_type": "markdown",
   "metadata": {
    "pycharm": {
     "name": "#%% md\n"
    }
   },
   "source": [
    "Generate 10 000 rows of datapoints for logistic regression task with true coefficients (1, 3, -4, 2, 1)"
   ]
  },
  {
   "cell_type": "code",
   "execution_count": 48,
   "metadata": {
    "pycharm": {
     "name": "#%%\n"
    }
   },
   "outputs": [],
   "source": [
    "coefficients = [1.0, 3.0, -4.0, 2.0, 1.0]\n",
    "dataset = BinaryLogisticRegressionDataGenerator(jnp.array(coefficients)).generate_data(n=10000, rng_key=data_gen_rng)"
   ]
  },
  {
   "cell_type": "code",
   "execution_count": 49,
   "metadata": {
    "pycharm": {
     "name": "#%%\n"
    }
   },
   "outputs": [],
   "source": [
    "orig_df = pd.DataFrame(dataset, dtype=\"category\")\n",
    "n, d = orig_df.shape"
   ]
  },
  {
   "cell_type": "code",
   "execution_count": 50,
   "metadata": {
    "pycharm": {
     "name": "#%%\n"
    }
   },
   "outputs": [
    {
     "data": {
      "text/html": [
       "<div>\n",
       "<style scoped>\n",
       "    .dataframe tbody tr th:only-of-type {\n",
       "        vertical-align: middle;\n",
       "    }\n",
       "\n",
       "    .dataframe tbody tr th {\n",
       "        vertical-align: top;\n",
       "    }\n",
       "\n",
       "    .dataframe thead th {\n",
       "        text-align: right;\n",
       "    }\n",
       "</style>\n",
       "<table border=\"1\" class=\"dataframe\">\n",
       "  <thead>\n",
       "    <tr style=\"text-align: right;\">\n",
       "      <th></th>\n",
       "      <th>0</th>\n",
       "      <th>1</th>\n",
       "      <th>2</th>\n",
       "      <th>3</th>\n",
       "      <th>4</th>\n",
       "      <th>5</th>\n",
       "    </tr>\n",
       "  </thead>\n",
       "  <tbody>\n",
       "    <tr>\n",
       "      <th>0</th>\n",
       "      <td>True</td>\n",
       "      <td>False</td>\n",
       "      <td>True</td>\n",
       "      <td>True</td>\n",
       "      <td>True</td>\n",
       "      <td>True</td>\n",
       "    </tr>\n",
       "    <tr>\n",
       "      <th>1</th>\n",
       "      <td>True</td>\n",
       "      <td>False</td>\n",
       "      <td>True</td>\n",
       "      <td>False</td>\n",
       "      <td>False</td>\n",
       "      <td>False</td>\n",
       "    </tr>\n",
       "    <tr>\n",
       "      <th>2</th>\n",
       "      <td>True</td>\n",
       "      <td>True</td>\n",
       "      <td>False</td>\n",
       "      <td>False</td>\n",
       "      <td>True</td>\n",
       "      <td>True</td>\n",
       "    </tr>\n",
       "    <tr>\n",
       "      <th>3</th>\n",
       "      <td>True</td>\n",
       "      <td>True</td>\n",
       "      <td>True</td>\n",
       "      <td>False</td>\n",
       "      <td>False</td>\n",
       "      <td>False</td>\n",
       "    </tr>\n",
       "    <tr>\n",
       "      <th>4</th>\n",
       "      <td>True</td>\n",
       "      <td>False</td>\n",
       "      <td>False</td>\n",
       "      <td>True</td>\n",
       "      <td>False</td>\n",
       "      <td>True</td>\n",
       "    </tr>\n",
       "    <tr>\n",
       "      <th>...</th>\n",
       "      <td>...</td>\n",
       "      <td>...</td>\n",
       "      <td>...</td>\n",
       "      <td>...</td>\n",
       "      <td>...</td>\n",
       "      <td>...</td>\n",
       "    </tr>\n",
       "    <tr>\n",
       "      <th>9995</th>\n",
       "      <td>True</td>\n",
       "      <td>False</td>\n",
       "      <td>False</td>\n",
       "      <td>True</td>\n",
       "      <td>False</td>\n",
       "      <td>True</td>\n",
       "    </tr>\n",
       "    <tr>\n",
       "      <th>9996</th>\n",
       "      <td>True</td>\n",
       "      <td>True</td>\n",
       "      <td>True</td>\n",
       "      <td>False</td>\n",
       "      <td>True</td>\n",
       "      <td>False</td>\n",
       "    </tr>\n",
       "    <tr>\n",
       "      <th>9997</th>\n",
       "      <td>True</td>\n",
       "      <td>True</td>\n",
       "      <td>False</td>\n",
       "      <td>False</td>\n",
       "      <td>False</td>\n",
       "      <td>True</td>\n",
       "    </tr>\n",
       "    <tr>\n",
       "      <th>9998</th>\n",
       "      <td>True</td>\n",
       "      <td>True</td>\n",
       "      <td>False</td>\n",
       "      <td>False</td>\n",
       "      <td>True</td>\n",
       "      <td>True</td>\n",
       "    </tr>\n",
       "    <tr>\n",
       "      <th>9999</th>\n",
       "      <td>True</td>\n",
       "      <td>True</td>\n",
       "      <td>False</td>\n",
       "      <td>True</td>\n",
       "      <td>True</td>\n",
       "      <td>True</td>\n",
       "    </tr>\n",
       "  </tbody>\n",
       "</table>\n",
       "<p>10000 rows × 6 columns</p>\n",
       "</div>"
      ],
      "text/plain": [
       "         0      1      2      3      4      5\n",
       "0     True  False   True   True   True   True\n",
       "1     True  False   True  False  False  False\n",
       "2     True   True  False  False   True   True\n",
       "3     True   True   True  False  False  False\n",
       "4     True  False  False   True  False   True\n",
       "...    ...    ...    ...    ...    ...    ...\n",
       "9995  True  False  False   True  False   True\n",
       "9996  True   True   True  False   True  False\n",
       "9997  True   True  False  False  False   True\n",
       "9998  True   True  False  False   True   True\n",
       "9999  True   True  False   True   True   True\n",
       "\n",
       "[10000 rows x 6 columns]"
      ]
     },
     "execution_count": 50,
     "metadata": {},
     "output_type": "execute_result"
    }
   ],
   "source": [
    "orig_df"
   ]
  },
  {
   "cell_type": "markdown",
   "metadata": {
    "pycharm": {
     "name": "#%% md\n"
    }
   },
   "source": [
    "#### Create NapsuMQModel and fit the probabilistic model with DP"
   ]
  },
  {
   "cell_type": "code",
   "execution_count": 51,
   "metadata": {
    "pycharm": {
     "name": "#%%\n"
    }
   },
   "outputs": [
    {
     "name": "stderr",
     "output_type": "stream",
     "text": [
      "sample: 100%|████████████████████████████████████████████████████████████████████████████████████████████████████████████████████| 1800/1800 [00:05<00:00, 349.25it/s, 15 steps of size 1.77e-01. acc. prob=0.92]\n",
      "sample: 100%|███████████████████████████████████████████████████████████████████████████████████████████████████████████████████| 1800/1800 [00:00<00:00, 3854.11it/s, 31 steps of size 1.61e-01. acc. prob=0.93]\n",
      "sample: 100%|███████████████████████████████████████████████████████████████████████████████████████████████████████████████████| 1800/1800 [00:00<00:00, 4065.46it/s, 15 steps of size 1.92e-01. acc. prob=0.91]\n",
      "sample: 100%|███████████████████████████████████████████████████████████████████████████████████████████████████████████████████| 1800/1800 [00:00<00:00, 3850.01it/s, 31 steps of size 1.72e-01. acc. prob=0.92]\n"
     ]
    }
   ],
   "source": [
    "# Fitting the model takes few minutes\n",
    "\n",
    "rng = d3p.random.PRNGKey(74249069)\n",
    "inference_rng, sampling_rng = d3p.random.split(rng)\n",
    "\n",
    "# We can define column marginal relationships that we want to preserve\n",
    "required_marginals = [(0, 1), (0, 5), (3, 5)]\n",
    "\n",
    "model = NapsuMQModel(required_marginals=required_marginals)\n",
    "inference_config = NapsuMQInferenceConfig(\n",
    "    mcmc_config=NapsuMQMCMCConfig(\n",
    "        num_samples=1000\n",
    "    )\n",
    ")\n",
    "result = model.fit(\n",
    "    data=orig_df,\n",
    "    rng=inference_rng,\n",
    "    epsilon=1,\n",
    "    delta=(n ** (-2)),\n",
    "    inference_config=inference_config,\n",
    ")"
   ]
  },
  {
   "cell_type": "markdown",
   "metadata": {
    "pycharm": {
     "name": "#%% md\n"
    }
   },
   "source": [
    "#### Create a synthetic dataset using probabilistic model"
   ]
  },
  {
   "cell_type": "code",
   "execution_count": 52,
   "metadata": {
    "pycharm": {
     "name": "#%%\n"
    }
   },
   "outputs": [],
   "source": [
    "synthetic_dfs = result.generate(\n",
    "    rng=sampling_rng, \n",
    "    num_data_per_parameter_sample=10000, \n",
    "    num_parameter_samples=10,\n",
    "    single_dataframe=False\n",
    ")"
   ]
  },
  {
   "cell_type": "markdown",
   "metadata": {
    "pycharm": {
     "name": "#%% md\n"
    }
   },
   "source": [
    "#### Plot and compare the results"
   ]
  },
  {
   "cell_type": "code",
   "execution_count": 53,
   "metadata": {
    "pycharm": {
     "name": "#%%\n"
    }
   },
   "outputs": [
    {
     "data": {
      "image/png": "[encoded data removed]",
      "text/plain": [
       "<Figure size 1800x550 with 6 Axes>"
      ]
     },
     "metadata": {},
     "output_type": "display_data"
    }
   ],
   "source": [
    "def value_count_list(df, col, type):\n",
    "    counts = df[col].value_counts()\n",
    "    return [(value, counts[value], type) for value in counts.index]\n",
    "\n",
    "def value_count_df(orig_df, synthetic_dfs, col):\n",
    "    vl_list = value_count_list(orig_df, col, \"Original\")\n",
    "    for synthetic_df in synthetic_dfs:\n",
    "        vl_list += (value_count_list(synthetic_df, col, \"Synthetic\"))\n",
    "\n",
    "    return pd.DataFrame.from_records(vl_list, columns=[\"Value\", \"Count\", \"Type\"])\n",
    "\n",
    "value_count_dfs = { col: value_count_df(orig_df, synthetic_dfs, col) for col in orig_df.columns }\n",
    "\n",
    "fig, axes = plt.subplots(1, len(value_count_dfs.items()), figsize=(3 * len(value_count_dfs.items()), 5.5))\n",
    "for i, (key, value) in enumerate(value_count_dfs.items()):\n",
    "    ax = axes[i]\n",
    "    ax.set_title(key)\n",
    "    ax.tick_params(\"x\", labelrotation=90)\n",
    "    sns.barplot(x=\"Value\", y=\"Count\", data=value_count_dfs[key], hue=\"Type\", estimator=np.mean, ax=ax)\n",
    "    if i < len(value_count_dfs.items()) - 1: \n",
    "        ax.get_legend().remove()\n",
    "    else:\n",
    "        ax.legend(loc=\"upper left\", bbox_to_anchor=(1.00, 1))\n",
    "        \n",
    "plt.tight_layout()\n",
    "plt.show()"
   ]
  },
  {
   "cell_type": "code",
   "execution_count": null,
   "metadata": {},
   "outputs": [],
   "source": []
  }
 ],
 "metadata": {
  "kernelspec": {
   "display_name": "Python 3 (ipykernel)",
   "language": "python",
   "name": "python3"
  },
  "language_info": {
   "codemirror_mode": {
    "name": "ipython",
    "version": 3
   },
   "file_extension": ".py",
   "mimetype": "text/x-python",
   "name": "python",
   "nbconvert_exporter": "python",
   "pygments_lexer": "ipython3",
   "version": "3.11.3"
  },
  "vscode": {
   "interpreter": {
    "hash": "323bb09852a95e8a8eba4827a984f968dd1fad8036bc80ff116371fc1eecf3c9"
   }
  }
 },
 "nbformat": 4,
 "nbformat_minor": 4
}
