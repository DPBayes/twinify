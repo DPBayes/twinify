{
 "cells": [
  {
   "cell_type": "code",
   "execution_count": 1,
   "metadata": {},
   "outputs": [],
   "source": [
    "%%capture\n",
    "\n",
    "import jax.numpy as jnp\n",
    "import numpy as np\n",
    "import pandas as pd\n",
    "import d3p\n",
    "from twinify.napsu_mq.napsu_mq import NapsuMQModel\n",
    "from twinify.napsu_mq import rubins_rules\n",
    "from tests.napsu_mq.binary_logistic_regression_generator import BinaryLogisticRegressionDataGenerator\n",
    "import seaborn as sns\n",
    "import matplotlib.pyplot as plt\n",
    "import statsmodels.api as sm"
   ]
  },
  {
   "cell_type": "code",
   "execution_count": 3,
   "metadata": {},
   "outputs": [],
   "source": [
    "rng = d3p.random.PRNGKey(42526709)\n",
    "data_gen_rng, inference_rng = d3p.random.split(rng)\n",
    "data_gen_rng = d3p.random.convert_to_jax_rng_key(data_gen_rng)"
   ]
  },
  {
   "cell_type": "markdown",
   "metadata": {},
   "source": [
    "#### Prepare dataset"
   ]
  },
  {
   "cell_type": "markdown",
   "metadata": {},
   "source": [
    "Generate 10 000 rows of datapoints for logistic regression task with true coefficients (1, 3, -4, 2, 1)"
   ]
  },
  {
   "cell_type": "code",
   "execution_count": 4,
   "metadata": {},
   "outputs": [],
   "source": [
    "coefficients = [1.0, 3.0, -4.0, 2.0, 1.0]\n",
    "dataset = BinaryLogisticRegressionDataGenerator(jnp.array(coefficients)).generate_data(n=10000, rng_key=data_gen_rng)"
   ]
  },
  {
   "cell_type": "code",
   "execution_count": 5,
   "metadata": {},
   "outputs": [],
   "source": [
    "orig_df = pd.DataFrame(dataset, dtype=\"int\")\n",
    "n, d = orig_df.shape"
   ]
  },
  {
   "cell_type": "code",
   "execution_count": 6,
   "metadata": {},
   "outputs": [
    {
     "data": {
      "text/html": [
       "<div>\n",
       "<style scoped>\n",
       "    .dataframe tbody tr th:only-of-type {\n",
       "        vertical-align: middle;\n",
       "    }\n",
       "\n",
       "    .dataframe tbody tr th {\n",
       "        vertical-align: top;\n",
       "    }\n",
       "\n",
       "    .dataframe thead th {\n",
       "        text-align: right;\n",
       "    }\n",
       "</style>\n",
       "<table border=\"1\" class=\"dataframe\">\n",
       "  <thead>\n",
       "    <tr style=\"text-align: right;\">\n",
       "      <th></th>\n",
       "      <th>0</th>\n",
       "      <th>1</th>\n",
       "      <th>2</th>\n",
       "      <th>3</th>\n",
       "      <th>4</th>\n",
       "      <th>5</th>\n",
       "    </tr>\n",
       "  </thead>\n",
       "  <tbody>\n",
       "    <tr>\n",
       "      <th>0</th>\n",
       "      <td>1</td>\n",
       "      <td>0</td>\n",
       "      <td>1</td>\n",
       "      <td>1</td>\n",
       "      <td>1</td>\n",
       "      <td>1</td>\n",
       "    </tr>\n",
       "    <tr>\n",
       "      <th>1</th>\n",
       "      <td>1</td>\n",
       "      <td>0</td>\n",
       "      <td>1</td>\n",
       "      <td>0</td>\n",
       "      <td>0</td>\n",
       "      <td>0</td>\n",
       "    </tr>\n",
       "    <tr>\n",
       "      <th>2</th>\n",
       "      <td>1</td>\n",
       "      <td>1</td>\n",
       "      <td>0</td>\n",
       "      <td>0</td>\n",
       "      <td>1</td>\n",
       "      <td>1</td>\n",
       "    </tr>\n",
       "    <tr>\n",
       "      <th>3</th>\n",
       "      <td>1</td>\n",
       "      <td>1</td>\n",
       "      <td>1</td>\n",
       "      <td>0</td>\n",
       "      <td>0</td>\n",
       "      <td>0</td>\n",
       "    </tr>\n",
       "    <tr>\n",
       "      <th>4</th>\n",
       "      <td>1</td>\n",
       "      <td>0</td>\n",
       "      <td>0</td>\n",
       "      <td>1</td>\n",
       "      <td>0</td>\n",
       "      <td>1</td>\n",
       "    </tr>\n",
       "    <tr>\n",
       "      <th>...</th>\n",
       "      <td>...</td>\n",
       "      <td>...</td>\n",
       "      <td>...</td>\n",
       "      <td>...</td>\n",
       "      <td>...</td>\n",
       "      <td>...</td>\n",
       "    </tr>\n",
       "    <tr>\n",
       "      <th>9995</th>\n",
       "      <td>1</td>\n",
       "      <td>0</td>\n",
       "      <td>0</td>\n",
       "      <td>1</td>\n",
       "      <td>0</td>\n",
       "      <td>1</td>\n",
       "    </tr>\n",
       "    <tr>\n",
       "      <th>9996</th>\n",
       "      <td>1</td>\n",
       "      <td>1</td>\n",
       "      <td>1</td>\n",
       "      <td>0</td>\n",
       "      <td>1</td>\n",
       "      <td>0</td>\n",
       "    </tr>\n",
       "    <tr>\n",
       "      <th>9997</th>\n",
       "      <td>1</td>\n",
       "      <td>1</td>\n",
       "      <td>0</td>\n",
       "      <td>0</td>\n",
       "      <td>0</td>\n",
       "      <td>1</td>\n",
       "    </tr>\n",
       "    <tr>\n",
       "      <th>9998</th>\n",
       "      <td>1</td>\n",
       "      <td>1</td>\n",
       "      <td>0</td>\n",
       "      <td>0</td>\n",
       "      <td>1</td>\n",
       "      <td>1</td>\n",
       "    </tr>\n",
       "    <tr>\n",
       "      <th>9999</th>\n",
       "      <td>1</td>\n",
       "      <td>1</td>\n",
       "      <td>0</td>\n",
       "      <td>1</td>\n",
       "      <td>1</td>\n",
       "      <td>1</td>\n",
       "    </tr>\n",
       "  </tbody>\n",
       "</table>\n",
       "<p>10000 rows × 6 columns</p>\n",
       "</div>"
      ],
      "text/plain": [
       "      0  1  2  3  4  5\n",
       "0     1  0  1  1  1  1\n",
       "1     1  0  1  0  0  0\n",
       "2     1  1  0  0  1  1\n",
       "3     1  1  1  0  0  0\n",
       "4     1  0  0  1  0  1\n",
       "...  .. .. .. .. .. ..\n",
       "9995  1  0  0  1  0  1\n",
       "9996  1  1  1  0  1  0\n",
       "9997  1  1  0  0  0  1\n",
       "9998  1  1  0  0  1  1\n",
       "9999  1  1  0  1  1  1\n",
       "\n",
       "[10000 rows x 6 columns]"
      ]
     },
     "execution_count": 6,
     "metadata": {},
     "output_type": "execute_result"
    }
   ],
   "source": [
    "orig_df"
   ]
  },
  {
   "cell_type": "markdown",
   "metadata": {},
   "source": [
    "#### Run logistic regression on original data"
   ]
  },
  {
   "cell_type": "markdown",
   "metadata": {},
   "source": [
    "We define logistic regression model with original data and after fit we see coefficients approximately match the true coefficients "
   ]
  },
  {
   "cell_type": "code",
   "execution_count": 66,
   "metadata": {},
   "outputs": [],
   "source": [
    "X_array_orig = orig_df.to_numpy()[:,:-1]\n",
    "y_array_orig = orig_df.to_numpy()[:,-1]\n",
    "\n",
    "logistic_regression_result_with_orig = sm.GLM(y_array_orig, X_array_orig, family=sm.families.Binomial()).fit()"
   ]
  },
  {
   "cell_type": "code",
   "execution_count": 67,
   "metadata": {},
   "outputs": [
    {
     "data": {
      "text/html": [
       "<table class=\"simpletable\">\n",
       "<caption>Generalized Linear Model Regression Results</caption>\n",
       "<tr>\n",
       "  <th>Dep. Variable:</th>           <td>y</td>        <th>  No. Observations:  </th>  <td> 10000</td> \n",
       "</tr>\n",
       "<tr>\n",
       "  <th>Model:</th>                  <td>GLM</td>       <th>  Df Residuals:      </th>  <td>  9995</td> \n",
       "</tr>\n",
       "<tr>\n",
       "  <th>Model Family:</th>        <td>Binomial</td>     <th>  Df Model:          </th>  <td>     4</td> \n",
       "</tr>\n",
       "<tr>\n",
       "  <th>Link Function:</th>         <td>Logit</td>      <th>  Scale:             </th> <td>  1.0000</td>\n",
       "</tr>\n",
       "<tr>\n",
       "  <th>Method:</th>                <td>IRLS</td>       <th>  Log-Likelihood:    </th> <td> -3309.6</td>\n",
       "</tr>\n",
       "<tr>\n",
       "  <th>Date:</th>            <td>Thu, 01 Dec 2022</td> <th>  Deviance:          </th> <td>  6619.2</td>\n",
       "</tr>\n",
       "<tr>\n",
       "  <th>Time:</th>                <td>15:19:52</td>     <th>  Pearson chi2:      </th> <td>8.70e+03</td>\n",
       "</tr>\n",
       "<tr>\n",
       "  <th>No. Iterations:</th>          <td>7</td>        <th>  Pseudo R-squ. (CS):</th>  <td>0.4585</td> \n",
       "</tr>\n",
       "<tr>\n",
       "  <th>Covariance Type:</th>     <td>nonrobust</td>    <th>                     </th>     <td> </td>   \n",
       "</tr>\n",
       "</table>\n",
       "<table class=\"simpletable\">\n",
       "<tr>\n",
       "   <td></td>     <th>coef</th>     <th>std err</th>      <th>z</th>      <th>P>|z|</th>  <th>[0.025</th>    <th>0.975]</th>  \n",
       "</tr>\n",
       "<tr>\n",
       "  <th>x1</th> <td>    1.0905</td> <td>    0.059</td> <td>   18.372</td> <td> 0.000</td> <td>    0.974</td> <td>    1.207</td>\n",
       "</tr>\n",
       "<tr>\n",
       "  <th>x2</th> <td>    3.0326</td> <td>    0.074</td> <td>   40.914</td> <td> 0.000</td> <td>    2.887</td> <td>    3.178</td>\n",
       "</tr>\n",
       "<tr>\n",
       "  <th>x3</th> <td>   -4.0318</td> <td>    0.087</td> <td>  -46.566</td> <td> 0.000</td> <td>   -4.202</td> <td>   -3.862</td>\n",
       "</tr>\n",
       "<tr>\n",
       "  <th>x4</th> <td>    1.9818</td> <td>    0.067</td> <td>   29.568</td> <td> 0.000</td> <td>    1.850</td> <td>    2.113</td>\n",
       "</tr>\n",
       "<tr>\n",
       "  <th>x5</th> <td>    0.9878</td> <td>    0.058</td> <td>   16.905</td> <td> 0.000</td> <td>    0.873</td> <td>    1.102</td>\n",
       "</tr>\n",
       "</table>"
      ],
      "text/plain": [
       "<class 'statsmodels.iolib.summary.Summary'>\n",
       "\"\"\"\n",
       "                 Generalized Linear Model Regression Results                  \n",
       "==============================================================================\n",
       "Dep. Variable:                      y   No. Observations:                10000\n",
       "Model:                            GLM   Df Residuals:                     9995\n",
       "Model Family:                Binomial   Df Model:                            4\n",
       "Link Function:                  Logit   Scale:                          1.0000\n",
       "Method:                          IRLS   Log-Likelihood:                -3309.6\n",
       "Date:                Thu, 01 Dec 2022   Deviance:                       6619.2\n",
       "Time:                        15:19:52   Pearson chi2:                 8.70e+03\n",
       "No. Iterations:                     7   Pseudo R-squ. (CS):             0.4585\n",
       "Covariance Type:            nonrobust                                         \n",
       "==============================================================================\n",
       "                 coef    std err          z      P>|z|      [0.025      0.975]\n",
       "------------------------------------------------------------------------------\n",
       "x1             1.0905      0.059     18.372      0.000       0.974       1.207\n",
       "x2             3.0326      0.074     40.914      0.000       2.887       3.178\n",
       "x3            -4.0318      0.087    -46.566      0.000      -4.202      -3.862\n",
       "x4             1.9818      0.067     29.568      0.000       1.850       2.113\n",
       "x5             0.9878      0.058     16.905      0.000       0.873       1.102\n",
       "==============================================================================\n",
       "\"\"\""
      ]
     },
     "execution_count": 67,
     "metadata": {},
     "output_type": "execute_result"
    }
   ],
   "source": [
    "logistic_regression_result_with_orig.summary()"
   ]
  },
  {
   "cell_type": "markdown",
   "metadata": {},
   "source": [
    "#### Create NapsuMQModel and fit the probabilistic model with DP"
   ]
  },
  {
   "cell_type": "code",
   "execution_count": 131,
   "metadata": {},
   "outputs": [
    {
     "name": "stderr",
     "output_type": "stream",
     "text": [
      "/home/local/jarlehti/projects/twinify/twinify/mst.py:182: RuntimeWarning: divide by zero encountered in double_scalars\n",
      "  epsilon = np.sqrt(8 * rho / (r - 1))\n",
      "  0%|                                                                                                                | 0/19 [00:00<?, ?it/s]\n",
      "2it [00:00, 13336.42it/s]\n",
      "\n",
      "4it [00:00, 16594.67it/s]\n",
      "\n",
      "2it [00:00, 16480.57it/s]\n",
      "\n",
      "4it [00:00, 9182.93it/s]\n",
      "\n",
      "4it [00:00, 25653.24it/s]\n",
      "\n",
      "4it [00:00, 27324.46it/s]\n",
      "\n",
      "4it [00:00, 22610.80it/s]\n",
      "\n",
      "2it [00:00, 22733.36it/s]\n",
      "\n",
      "2it [00:00, 22795.13it/s]\n",
      "\n",
      "4it [00:00, 18456.78it/s]\n",
      "\n",
      "4it [00:00, 23205.00it/s]\n",
      "\n",
      "4it [00:00, 8289.14it/s]\n",
      "\n",
      "4it [00:00, 25930.78it/s]\n",
      "\n",
      "4it [00:00, 11658.94it/s]\n",
      "\n",
      "2it [00:00, 7307.15it/s]\n",
      "\n",
      "2it [00:00, 7469.82it/s]\n",
      "\n",
      "4it [00:00, 10922.67it/s]\n",
      "\n",
      "4it [00:00, 11626.62it/s]\n",
      "100%|██████████████████████████████████████████████████████████████████████████████████████████████████████| 19/19 [00:00<00:00, 645.82it/s]\n",
      "100%|███████████████████████████████████████████████████████████████████████████████████████████████████| 12/12 [00:00<00:00, 381300.36it/s]\n",
      "100%|██████████████████████████████████████████████████████████████████████████████████████████████████████| 6/6 [00:00<00:00, 40986.68it/s]\n",
      "sample: 100%|████████████████████████████████████████████████| 2800/2800 [00:23<00:00, 120.19it/s, 7 steps of size 6.18e-01. acc. prob=0.88]\n",
      "sample: 100%|████████████████████████████████████████████████| 2800/2800 [00:03<00:00, 795.13it/s, 7 steps of size 5.36e-01. acc. prob=0.90]\n",
      "sample: 100%|████████████████████████████████████████████████| 2800/2800 [00:03<00:00, 803.85it/s, 7 steps of size 5.56e-01. acc. prob=0.90]\n",
      "sample: 100%|████████████████████████████████████████████████| 2800/2800 [00:03<00:00, 793.33it/s, 7 steps of size 5.26e-01. acc. prob=0.90]\n"
     ]
    }
   ],
   "source": [
    "# Fitting the model takes few minutes\n",
    "\n",
    "rng = d3p.random.PRNGKey(74249069)\n",
    "inference_rng, sampling_rng = d3p.random.split(rng)\n",
    "\n",
    "# We can define column marginal relationships that we want to preserve\n",
    "column_feature_set = [(0, 5), (1, 5), (2, 5), (3, 5), (4, 5), (0, 1), (1, 2), (2, 3), (3, 4), (0, 2), (1, 3), (2, 4)]\n",
    "\n",
    "model = NapsuMQModel(column_feature_set=column_feature_set)\n",
    "result = model.fit(\n",
    "    data=orig_df,\n",
    "    rng=inference_rng,\n",
    "    epsilon=1,\n",
    "    delta=(n ** (-2)),\n",
    "    use_laplace_approximation=False\n",
    ")"
   ]
  },
  {
   "cell_type": "markdown",
   "metadata": {},
   "source": [
    "#### Create a synthetic dataset using probabilistic model"
   ]
  },
  {
   "cell_type": "code",
   "execution_count": 132,
   "metadata": {},
   "outputs": [],
   "source": [
    "synthetic_dfs = result.generate(\n",
    "    rng=sampling_rng, \n",
    "    num_data_per_parameter_sample=10000, \n",
    "    num_parameter_samples=50,\n",
    "    single_dataframe=False\n",
    ")"
   ]
  },
  {
   "cell_type": "markdown",
   "metadata": {},
   "source": [
    "#### Run logistic regression on synthetic data"
   ]
  },
  {
   "cell_type": "code",
   "execution_count": 133,
   "metadata": {},
   "outputs": [],
   "source": [
    "q = np.zeros((len(synthetic_dfs), len(coefficients)))\n",
    "u = np.zeros((len(synthetic_dfs), len(coefficients)))\n",
    "\n",
    "for i, syn_df in enumerate(synthetic_dfs):\n",
    "    X_array_syn = syn_df.to_numpy()[:,:-1]\n",
    "    y_array_syn = syn_df.to_numpy()[:,-1]\n",
    "        \n",
    "    logistic_regression_result_with_syn = sm.GLM(y_array_syn, X_array_syn, family=sm.families.Binomial()).fit()\n",
    "    \n",
    "    q[i, :] = logistic_regression_result_with_syn.params\n",
    "    u[i, :] = logistic_regression_result_with_syn.bse**2"
   ]
  },
  {
   "cell_type": "markdown",
   "metadata": {},
   "source": [
    "#### Calculate confidence intervals from point estimates and variance estimates using Rubin's rules"
   ]
  },
  {
   "cell_type": "code",
   "execution_count": 134,
   "metadata": {},
   "outputs": [],
   "source": [
    "synthetic_data_confidence_intervals = []\n",
    "\n",
    "for i in range(len(coefficients)):\n",
    "    ci = rubins_rules.conf_int(q[:,i], u[:,i], 0.95)\n",
    "    synthetic_data_confidence_intervals.append(ci)"
   ]
  },
  {
   "cell_type": "markdown",
   "metadata": {},
   "source": [
    "#### Plot and compare the results"
   ]
  },
  {
   "cell_type": "code",
   "execution_count": 135,
   "metadata": {},
   "outputs": [
    {
     "data": {
      "image/png": "[encoded data removed]",
      "text/plain": [
       "<Figure size 1800x550 with 6 Axes>"
      ]
     },
     "metadata": {},
     "output_type": "display_data"
    }
   ],
   "source": [
    "def value_count_list(df, col, type):\n",
    "    counts = df[col].value_counts()\n",
    "    return [(value, counts[value], type) for value in counts.index]\n",
    "\n",
    "def value_count_df(orig_df, synthetic_dfs, col):\n",
    "    vl_list = value_count_list(orig_df, col, \"Original\")\n",
    "    for synthetic_df in synthetic_dfs:\n",
    "        vl_list += (value_count_list(synthetic_df, col, \"Synthetic\"))\n",
    "\n",
    "    return pd.DataFrame.from_records(vl_list, columns=[\"Value\", \"Count\", \"Type\"])\n",
    "\n",
    "value_count_dfs = { col: value_count_df(orig_df, synthetic_dfs, col) for col in orig_df.columns }\n",
    "\n",
    "fig, axes = plt.subplots(1, len(value_count_dfs.items()), figsize=(3 * len(value_count_dfs.items()), 5.5))\n",
    "for i, (key, value) in enumerate(value_count_dfs.items()):\n",
    "    ax = axes[i]\n",
    "    ax.set_title(key)\n",
    "    ax.tick_params(\"x\", labelrotation=90)\n",
    "    sns.barplot(x=\"Value\", y=\"Count\", data=value_count_dfs[key], hue=\"Type\", estimator=np.mean, ax=ax)\n",
    "    if i < len(value_count_dfs.items()) - 1: \n",
    "        ax.get_legend().remove()\n",
    "    else:\n",
    "        ax.legend(loc=\"upper left\", bbox_to_anchor=(1.00, 1))\n",
    "        \n",
    "plt.tight_layout()\n",
    "plt.show()"
   ]
  },
  {
   "cell_type": "code",
   "execution_count": 137,
   "metadata": {},
   "outputs": [
    {
     "data": {
      "image/png": "[encoded data removed]",
      "text/plain": [
       "<Figure size 1600x1000 with 1 Axes>"
      ]
     },
     "metadata": {},
     "output_type": "display_data"
    }
   ],
   "source": [
    "original_data_confidence_intervals = logistic_regression_result_with_orig.conf_int()\n",
    "\n",
    "colors = plt.rcParams[\"axes.prop_cycle\"].by_key()[\"color\"]\n",
    "plt.subplots(figsize=(16, 10))\n",
    "for i in reversed(range(len(coefficients))):\n",
    "    original_lr_coefficient_mean = np.mean(original_data_confidence_intervals[i])\n",
    "    synthetic_lr_coefficient_mean = np.mean(synthetic_data_confidence_intervals[i])\n",
    "    original_lr_coefficient_radius = (original_data_confidence_intervals[i][1] - original_data_confidence_intervals[i][0]) * 0.5\n",
    "    synthetic_lr_coefficient_radius = (synthetic_data_confidence_intervals[i][1] - synthetic_data_confidence_intervals[i][0]) * 0.5\n",
    "    plt.errorbar(synthetic_lr_coefficient_mean, y=[f\"Synthetic - Coefficient {i}\"], xerr=synthetic_lr_coefficient_radius, fmt=\".\", color=colors[i])\n",
    "    plt.errorbar(original_lr_coefficient_mean, y=[f\"Original- Coefficient {i}\"], xerr=original_lr_coefficient_radius, fmt=\".\", color=colors[i])\n",
    "\n",
    "plt.xticks(range(-6, 7))\n",
    "plt.tight_layout()\n",
    "plt.show()"
   ]
  },
  {
   "cell_type": "code",
   "execution_count": null,
   "metadata": {},
   "outputs": [],
   "source": []
  }
 ],
 "metadata": {
  "kernelspec": {
   "display_name": "twinify",
   "language": "python",
   "name": "twinify"
  },
  "language_info": {
   "codemirror_mode": {
    "name": "ipython",
    "version": 3
   },
   "file_extension": ".py",
   "mimetype": "text/x-python",
   "name": "python",
   "nbconvert_exporter": "python",
   "pygments_lexer": "ipython3",
   "version": "3.8.10"
  }
 },
 "nbformat": 4,
 "nbformat_minor": 4
}
